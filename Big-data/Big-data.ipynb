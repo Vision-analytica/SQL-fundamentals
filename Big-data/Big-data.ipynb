{
 "cells": [
  {
   "attachments": {},
   "cell_type": "markdown",
   "metadata": {},
   "source": [
    "# Big Data analytics"
   ]
  },
  {
   "attachments": {},
   "cell_type": "markdown",
   "metadata": {},
   "source": [
    "Big data refers to extremely large and complex datasets that cannot be easily managed, processed, or analyzed using traditional data processing techniques. It encompasses vast volumes of structured, semi-structured, and unstructured data that are generated at high velocity and variety."
   ]
  },
  {
   "cell_type": "code",
   "execution_count": null,
   "metadata": {},
   "outputs": [],
   "source": []
  }
 ],
 "metadata": {
  "language_info": {
   "name": "python"
  },
  "orig_nbformat": 4
 },
 "nbformat": 4,
 "nbformat_minor": 2
}
