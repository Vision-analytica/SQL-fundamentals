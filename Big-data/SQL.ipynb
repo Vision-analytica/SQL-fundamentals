{
 "cells": [
  {
   "attachments": {},
   "cell_type": "markdown",
   "metadata": {},
   "source": [
    "<div style=\"background-color: #1C7879; border: 2px solid #ddd; padding: 5px; text-align: left;\">\n",
    "<h1>SQL (Structured Query Language) basics</h1>\n",
    "    <ul>\n",
    "        <li> SQL is a domain-specific programming language that is used to manage relational databases.</li>\n",
    "        <li> It is designed for managing and querying data that is organized in a relational database management system (RDBMS).</li>\n",
    "        <li> SQL provides a standardized way to perform various database operations such as creating, modifying, and deleting database tables, inserting, updating, and deleting data in tables, and querying the database to retrieve specific information.</li>\n",
    "        <li> SQL is used by a wide range of organizations to manage and analyze data stored in databases.</li>\n",
    "        <li> It is a fundamental tool for data analysts, database administrators, software developers, and other professionals who work with data in relational databases.</li>\n",
    "    </ul>\n",
    "</div>\n",
    "\n",
    "But Going into more details on SQL, first lets know what are main query languages used, what are database and understand differences between few terminology."
   ]
  },
  {
   "attachments": {},
   "cell_type": "markdown",
   "metadata": {},
   "source": [
    "# Query Languages (QL)\n",
    "\n",
    "- QL is a general term used to describe a variety of query languages used in database management systems (DBMS). \n",
    "- These query languages are used to interact with the database, allowing users to search, retrieve, and modify data stored within the system.\n",
    "\n",
    "## Important Query languages:\n",
    "\n",
    "There are numerous Query Languages (QL) used in database management systems (DBMS). Some of the most common QLs include:\n",
    "\n",
    "1. <font color=\"blue\">**SQL (Structured Query Language)** - used to communicate with relational databases.</font>\n",
    "\n",
    "2. **XQuery** - used to retrieve and manipulate data stored in XML documents.\n",
    "\n",
    "3. **SPARQL (SPARQL Protocol and RDF Query Language)** - used to query and manipulate data stored in RDF databases.\n",
    "\n",
    "4. **Cypher** - used to query graph databases.\n",
    "\n",
    "5. **Gremlin** - used to traverse and manipulate graph data stored in graph databases.\n",
    "\n",
    "6. **MDX (Multidimensional Expressions)** - used to query data stored in multidimensional databases.\n",
    "\n",
    "7. **Datalog** - used to query and reason about data stored in deductive databases.\n",
    "\n",
    "8. **FQL (Facebook Query Language)** - used to query data stored in Facebook's data infrastructure.\n",
    "\n",
    "9. **SOQL (Salesforce Object Query Language)** - used to query data stored in Salesforce's customer relationship management (CRM) system.\n",
    "\n",
    "10. **OQL (Object Query Language)** - used to query and manipulate data stored in object-oriented databases.\n",
    "\n",
    "These are just a few examples of the many QLs used in database management systems."
   ]
  },
  {
   "attachments": {},
   "cell_type": "markdown",
   "metadata": {},
   "source": [
    "## Some of the advantages of SQL\n",
    "\n",
    "- **Easy to learn:** SQL has a simple and easy-to-understand syntax, which makes it easy for beginners to learn.\n",
    "- **Portable:** SQL is a standard language, which means that it can be used with a variety of relational database management systems (RDBMS).\n",
    "- **High performance:** SQL is optimized for performance and can handle large amounts of data quickly and efficiently.\n",
    "- **Scalable:** SQL databases can scale easily by adding more servers or increasing the resources of existing servers.\n",
    "- **Flexible:** SQL can be used to perform a wide range of tasks, from simple queries to complex analytics and data mining.\n",
    "- **Secure:** SQL includes built-in security features that can help protect against data breaches and unauthorized access.\n",
    "- **Ad-hoc querying:** SQL allows users to run ad-hoc queries against their data, which can be useful for exploring data and finding insights.\n",
    "- **Data integrity:** SQL databases include features such as transactions and constraints that help ensure the integrity of the data stored in the database.\n",
    "- **Ease of integration:** SQL databases can be easily integrated with other applications and tools, making it easy to access and analyze data from different sources.\n",
    "- **Standardization:** SQL is a standardized language, which means that developers can use the same language and code across different databases and platforms.\n",
    "\n",
    "## Disadvantages of SQL\n",
    "With the advantages of SQL, it also has some disadvantages, which are as follows:\n",
    "\n",
    "- **Complexity:** SQL can be complex and difficult to learn, especially for those who are new to programming.\n",
    "- **Limited scalability:** SQL databases can struggle with scalability when it comes to handling large volumes of data, especially when compared to NoSQL databases.\n",
    "- **Limited flexibility:** SQL databases are designed to handle structured data, which means they may not be as flexible as NoSQL databases when it comes to handling unstructured or semi-structured data.\n",
    "- **Cost:** SQL databases can be expensive, especially when using commercial database management systems.\n",
    "- **Security concerns:** SQL databases can be vulnerable to SQL injection attacks, which can result in data loss or corruption.\n",
    "- **Performance issues:** SQL databases can experience performance issues, especially when complex queries are involved. This can be exacerbated when dealing with large data sets."
   ]
  },
  {
   "attachments": {},
   "cell_type": "markdown",
   "metadata": {},
   "source": []
  },
  {
   "cell_type": "code",
   "execution_count": null,
   "metadata": {},
   "outputs": [],
   "source": []
  }
 ],
 "metadata": {
  "language_info": {
   "name": "python"
  },
  "orig_nbformat": 4
 },
 "nbformat": 4,
 "nbformat_minor": 2
}
